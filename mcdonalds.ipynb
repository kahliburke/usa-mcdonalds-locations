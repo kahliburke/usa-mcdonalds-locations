{
 "cells": [
  {
   "cell_type": "markdown",
   "metadata": {},
   "source": [
    "Import the json package and csv to write it out"
   ]
  },
  {
   "cell_type": "code",
   "execution_count": 10,
   "metadata": {
    "collapsed": true
   },
   "outputs": [],
   "source": [
    "import json\n",
    "import csv"
   ]
  },
  {
   "cell_type": "markdown",
   "metadata": {},
   "source": [
    "Load the geojson file from the repo"
   ]
  },
  {
   "cell_type": "code",
   "execution_count": 2,
   "metadata": {
    "collapsed": true
   },
   "outputs": [],
   "source": [
    "data = json.load(open(\"mcdonalds.geojson\"))"
   ]
  },
  {
   "cell_type": "markdown",
   "metadata": {},
   "source": [
    "data has a top level field called \"features\" which is an array of all the stores"
   ]
  },
  {
   "cell_type": "code",
   "execution_count": 5,
   "metadata": {
    "collapsed": false
   },
   "outputs": [
    {
     "data": {
      "text/plain": [
       "14170"
      ]
     },
     "execution_count": 5,
     "metadata": {},
     "output_type": "execute_result"
    }
   ],
   "source": [
    "len(data[\"features\"])"
   ]
  },
  {
   "cell_type": "markdown",
   "metadata": {},
   "source": [
    "Here is the first store"
   ]
  },
  {
   "cell_type": "code",
   "execution_count": 6,
   "metadata": {
    "collapsed": false
   },
   "outputs": [
    {
     "data": {
      "text/plain": [
       "{u'geometry': {u'coordinates': [-80.140924, 25.789141], u'type': u'Point'},\n",
       " u'properties': {u'address': u'1601 ALTON RD',\n",
       "  u'archCard': u'Y',\n",
       "  u'city': u'MIAMI BEACH',\n",
       "  u'driveThru': u'Y',\n",
       "  u'freeWifi': u'Y',\n",
       "  u'phone': u'(305)672-7055',\n",
       "  u'playplace': u'N',\n",
       "  u'state': u'FL',\n",
       "  u'storeNumber': u'14372',\n",
       "  u'storeType': u'FREESTANDING',\n",
       "  u'storeUrl': u'http://www.mcflorida.com/14372',\n",
       "  u'zip': u'33139-2420'},\n",
       " u'type': u'Feature'}"
      ]
     },
     "execution_count": 6,
     "metadata": {},
     "output_type": "execute_result"
    }
   ],
   "source": [
    "data[\"features\"][0]"
   ]
  },
  {
   "cell_type": "markdown",
   "metadata": {},
   "source": [
    "Each store has some metadata and a geometry field with coordinates for the latitude and longitude. To get the latitude and longitude of all stores in an array format, we can use a list comprehension."
   ]
  },
  {
   "cell_type": "code",
   "execution_count": 8,
   "metadata": {
    "collapsed": false
   },
   "outputs": [
    {
     "data": {
      "text/plain": [
       "[[-80.218683, 25.765501],\n",
       " [-80.185108, 25.849872],\n",
       " [-80.37197, 25.550894],\n",
       " [-80.36734, 25.579132],\n",
       " [-80.206753, 25.83273],\n",
       " [-80.292742, 25.701277],\n",
       " [-80.162258, 25.895759],\n",
       " [-80.274593, 25.715959],\n",
       " [-80.248185, 25.749746]]"
      ]
     },
     "execution_count": 8,
     "metadata": {},
     "output_type": "execute_result"
    }
   ],
   "source": [
    "latLong = [store[\"geometry\"][\"coordinates\"] for store in data[\"features\"]]\n",
    "latLong[1:10]"
   ]
  },
  {
   "cell_type": "code",
   "execution_count": 14,
   "metadata": {
    "collapsed": false
   },
   "outputs": [],
   "source": [
    "with open('mcdonalds.csv', 'w') as csvfile:\n",
    "    writer = csv.writer(csvfile)\n",
    "    [writer.writerow(row) for row in latLong]"
   ]
  }
 ],
 "metadata": {
  "kernelspec": {
   "display_name": "Python 2",
   "language": "python",
   "name": "python2"
  },
  "language_info": {
   "codemirror_mode": {
    "name": "ipython",
    "version": 2
   },
   "file_extension": ".py",
   "mimetype": "text/x-python",
   "name": "python",
   "nbconvert_exporter": "python",
   "pygments_lexer": "ipython2",
   "version": "2.7.13"
  }
 },
 "nbformat": 4,
 "nbformat_minor": 2
}
